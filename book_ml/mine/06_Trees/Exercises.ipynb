{
 "cells": [
  {
   "cell_type": "code",
   "execution_count": 136,
   "metadata": {},
   "outputs": [
    {
     "data": {
      "text/plain": [
       "0.856"
      ]
     },
     "execution_count": 136,
     "metadata": {},
     "output_type": "execute_result"
    }
   ],
   "source": [
    "from sklearn.datasets import make_moons\n",
    "from sklearn.model_selection import train_test_split, GridSearchCV\n",
    "from sklearn.metrics import accuracy_score\n",
    "from sklearn.tree import DecisionTreeClassifier\n",
    "\n",
    "# 7) Train and fine-tune a decision tree for the moons dataset.\n",
    "X, y = make_moons(n_samples=10000, noise=0.4)\n",
    "X_train, X_test, y_train, y_test = train_test_split(X, y)\n",
    "\n",
    "dt = DecisionTreeClassifier()\n",
    "parameters = {\n",
    "    'max_depth': [2, 4, 8, 10],\n",
    "    'criterion': ['gini', 'entropy'],\n",
    "    'min_samples_leaf': [0.05, 0.1, 0.2, 0.4]\n",
    "}\n",
    "\n",
    "clf = GridSearchCV(\n",
    "    estimator=dt,\n",
    "    param_grid=parameters,\n",
    "    cv=3,\n",
    "    n_jobs=-1\n",
    ")\n",
    "\n",
    "clf.fit(X_train , y_train)\n",
    "\n",
    "dt_tuned = DecisionTreeClassifier(**clf.best_params_)\n",
    "dt_tuned.fit(X_train, y_train)\n",
    "\n",
    "y_pred = dt_tuned.predict(X_test)\n",
    "accuracy_score(y_test, y_pred)\n",
    "# Nice, we got a 0.86 accuracy"
   ]
  },
  {
   "cell_type": "code",
   "execution_count": 134,
   "metadata": {},
   "outputs": [
    {
     "name": "stdout",
     "output_type": "stream",
     "text": [
      "0.8138204\n"
     ]
    }
   ],
   "source": [
    "from sklearn.model_selection import ShuffleSplit\n",
    "import numpy as np\n",
    "from scipy import stats\n",
    "\n",
    "def generate_tree(X, y, Classifier, params, splits):\n",
    "    trees = []\n",
    "    for idx, _ in indexes.split(X):\n",
    "        small_tree = Classifier(**params)\n",
    "        small_tree.fit(X[idx, :], y[idx])\n",
    "        trees.append(small_tree)\n",
    "    return trees\n",
    "\n",
    "indexes = ShuffleSplit(n_splits=1000, train_size=0.01)\n",
    "trees = generate_tree(X, y, DecisionTreeClassifier, clf.best_params_, indexes)\n",
    "\n",
    "scores = [accuracy_score(y_test, tree.predict(X_test)) for tree in trees]\n",
    "print(np.mean(scores))"
   ]
  },
  {
   "cell_type": "code",
   "execution_count": 135,
   "metadata": {},
   "outputs": [
    {
     "data": {
      "text/plain": [
       "0.862"
      ]
     },
     "execution_count": 135,
     "metadata": {},
     "output_type": "execute_result"
    }
   ],
   "source": [
    "import pandas as pd\n",
    "\n",
    "predicts = np.zeros((len(X_test), len(trees)))\n",
    "\n",
    "for i in range(len(trees)):\n",
    "    predicts[:, i] = trees[i].predict(X_test)\n",
    "    \n",
    "trees_predicts_df = pd.DataFrame(predicts, columns=[f'Tree {i}' for i in range(0, len(trees))])\n",
    "y_trees_mode = trees_predicts_df.apply(lambda row: stats.mode(row).mode[0], axis=1)\n",
    "\n",
    "accuracy_score(y_test, y_trees_mode)"
   ]
  }
 ],
 "metadata": {
  "kernelspec": {
   "display_name": "Python 3.7.1 64-bit ('venv': virtualenv)",
   "language": "python",
   "name": "python37164bitvenvvirtualenva155b21064864e30bb3f17cab6903829"
  },
  "language_info": {
   "codemirror_mode": {
    "name": "ipython",
    "version": 3
   },
   "file_extension": ".py",
   "mimetype": "text/x-python",
   "name": "python",
   "nbconvert_exporter": "python",
   "pygments_lexer": "ipython3",
   "version": "3.7.1"
  }
 },
 "nbformat": 4,
 "nbformat_minor": 4
}
