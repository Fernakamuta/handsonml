{
 "cells": [
  {
   "cell_type": "code",
   "execution_count": 1,
   "metadata": {},
   "outputs": [],
   "source": [
    "from sklearn.datasets import fetch_openml\n",
    "\n",
    "mnist = fetch_openml('mnist_784', version=1)"
   ]
  },
  {
   "cell_type": "code",
   "execution_count": 3,
   "metadata": {},
   "outputs": [],
   "source": [
    "from sklearn.model_selection import train_test_split\n",
    "\n",
    "# Split into Train / Test Set\n",
    "mnist.keys()\n",
    "X = mnist.data\n",
    "y = mnist.target\n",
    "\n",
    "X_train, X_test, y_train, y_test = train_test_split(X, y, train_size=0.4, test_size=0.2)"
   ]
  },
  {
   "cell_type": "code",
   "execution_count": 42,
   "metadata": {},
   "outputs": [
    {
     "name": "stdout",
     "output_type": "stream",
     "text": [
      "**** Cross Validating Random Forest on Training Set ****\n",
      "0.959357041991758 \n",
      "\n",
      "**** Cross Validating Neural Network MLP on Training Set ****\n",
      "0.9449998608340514 \n",
      "\n",
      "**** Cross Validating Extra Trees on Training Set ****\n",
      "0.9626071006714229 \n",
      "\n",
      "**** Cross Validating Bagging Classifier on Training Set ****\n",
      "0.9243212587415788 \n",
      "\n",
      "**** Cross Validating Logistic Regression on Training Set ****\n"
     ]
    },
    {
     "name": "stderr",
     "output_type": "stream",
     "text": [
      "/home/nakamuta/Documents/Personal/HandsOnMl/venv/lib/python3.7/site-packages/sklearn/linear_model/_logistic.py:764: ConvergenceWarning: lbfgs failed to converge (status=1):\n",
      "STOP: TOTAL NO. of ITERATIONS REACHED LIMIT.\n",
      "\n",
      "Increase the number of iterations (max_iter) or scale the data as shown in:\n",
      "    https://scikit-learn.org/stable/modules/preprocessing.html\n",
      "Please also refer to the documentation for alternative solver options:\n",
      "    https://scikit-learn.org/stable/modules/linear_model.html#logistic-regression\n",
      "  extra_warning_msg=_LOGISTIC_SOLVER_CONVERGENCE_MSG)\n",
      "/home/nakamuta/Documents/Personal/HandsOnMl/venv/lib/python3.7/site-packages/sklearn/linear_model/_logistic.py:764: ConvergenceWarning: lbfgs failed to converge (status=1):\n",
      "STOP: TOTAL NO. of ITERATIONS REACHED LIMIT.\n",
      "\n",
      "Increase the number of iterations (max_iter) or scale the data as shown in:\n",
      "    https://scikit-learn.org/stable/modules/preprocessing.html\n",
      "Please also refer to the documentation for alternative solver options:\n",
      "    https://scikit-learn.org/stable/modules/linear_model.html#logistic-regression\n",
      "  extra_warning_msg=_LOGISTIC_SOLVER_CONVERGENCE_MSG)\n"
     ]
    },
    {
     "name": "stdout",
     "output_type": "stream",
     "text": [
      "0.904214067365487 \n",
      "\n"
     ]
    },
    {
     "name": "stderr",
     "output_type": "stream",
     "text": [
      "/home/nakamuta/Documents/Personal/HandsOnMl/venv/lib/python3.7/site-packages/sklearn/linear_model/_logistic.py:764: ConvergenceWarning: lbfgs failed to converge (status=1):\n",
      "STOP: TOTAL NO. of ITERATIONS REACHED LIMIT.\n",
      "\n",
      "Increase the number of iterations (max_iter) or scale the data as shown in:\n",
      "    https://scikit-learn.org/stable/modules/preprocessing.html\n",
      "Please also refer to the documentation for alternative solver options:\n",
      "    https://scikit-learn.org/stable/modules/linear_model.html#logistic-regression\n",
      "  extra_warning_msg=_LOGISTIC_SOLVER_CONVERGENCE_MSG)\n"
     ]
    }
   ],
   "source": [
    "from sklearn.model_selection import cross_val_score\n",
    "from sklearn.ensemble import BaggingClassifier\n",
    "from sklearn.ensemble import RandomForestClassifier, ExtraTreesClassifier\n",
    "from sklearn.neural_network import MLPClassifier\n",
    "from sklearn.svm import LinearSVC\n",
    "from sklearn.linear_model import LogisticRegression\n",
    "\n",
    "classifiers = [\n",
    "    ('Random Forest', RandomForestClassifier(n_jobs=-1)),\n",
    "    ('Neural Network MLP', MLPClassifier()),\n",
    "    ('Extra Trees', ExtraTreesClassifier(n_jobs=-1)),\n",
    "    ('Bagging Classifier', BaggingClassifier(n_jobs=-1)),\n",
    "#     ('Logistic Regression', LogisticRegression())\n",
    "]\n",
    "\n",
    "for name, clf in classifiers:\n",
    "    print(f'**** Cross Validating {name} on Training Set ****')\n",
    "    scores = cross_val_score(clf, X_train, y_train, cv=3)\n",
    "    print(scores.mean(), '\\n')"
   ]
  },
  {
   "cell_type": "code",
   "execution_count": 44,
   "metadata": {},
   "outputs": [
    {
     "data": {
      "text/plain": [
       "0.9617142857142857"
      ]
     },
     "execution_count": 44,
     "metadata": {},
     "output_type": "execute_result"
    }
   ],
   "source": [
    "from sklearn.ensemble import VotingClassifier\n",
    "\n",
    "classifiers = [\n",
    "    ('Random Forest', RandomForestClassifier(n_jobs=-1)),\n",
    "    ('Neural Network MLP', MLPClassifier()),\n",
    "    ('Extra Trees', ExtraTreesClassifier(n_jobs=-1)),\n",
    "    ('Bagging Classifier', BaggingClassifier(n_jobs=-1)),\n",
    "    ('Logistic Regression', LogisticRegression())\n",
    "]\n",
    "\n",
    "voting_ensemble = VotingClassifier(\n",
    "    estimators=classifiers,\n",
    "    n_jobs=-1,\n",
    "    voting='soft'\n",
    ")\n",
    "voting_ensemble.fit(X_train, y_train)\n",
    "y_pred_ensemble = voting_ensemble.predict(X_test)\n",
    "# accuracy_score(y_test, y_pred_ensemble)"
   ]
  },
  {
   "cell_type": "markdown",
   "metadata": {},
   "source": [
    "# Stacking"
   ]
  },
  {
   "cell_type": "code",
   "execution_count": 96,
   "metadata": {},
   "outputs": [
    {
     "name": "stdout",
     "output_type": "stream",
     "text": [
      "random_forest\n",
      "Accuracy on Test:\n",
      "0.9511428571428572\n",
      "neural_network\n",
      "Accuracy on Test:\n",
      "0.9287857142857143\n",
      "extra_trees\n",
      "Accuracy on Test:\n",
      "0.9540714285714286\n"
     ]
    }
   ],
   "source": [
    "X_train1, X_train2, y_train1, y_train2 = train_test_split(X_train, y_train, test_size=0.5)\n",
    "\n",
    "classifiers_layer1 = {\n",
    "    'random_forest': RandomForestClassifier(n_jobs=-1),\n",
    "    'neural_network': MLPClassifier(),\n",
    "    'extra_trees': ExtraTreesClassifier(n_jobs=-1)\n",
    "}\n",
    "\n",
    "for clf in classifiers_layer1:\n",
    "    print(clf)\n",
    "    classifiers_layer1[clf].fit(X_train1, y_train1)\n",
    "    \n",
    "    print('Accuracy on Test:')\n",
    "    y_pred = classifiers_layer1[clf].predict(X_test)\n",
    "    score = accuracy_score(y_test, y_pred)\n",
    "    print(score)\n",
    "    \n",
    "X_train_layer2 = np.c_[[classifiers_layer1[clf].predict(X_train2) for clf in classifiers_layer1]].T"
   ]
  },
  {
   "cell_type": "code",
   "execution_count": 97,
   "metadata": {},
   "outputs": [
    {
     "data": {
      "text/plain": [
       "RandomForestClassifier(n_jobs=-1)"
      ]
     },
     "execution_count": 97,
     "metadata": {},
     "output_type": "execute_result"
    }
   ],
   "source": [
    "classifier_layer2 = RandomForestClassifier(n_jobs=-1)\n",
    "classifier_layer2.fit(X_train_layer2, y_train2)"
   ]
  },
  {
   "cell_type": "code",
   "execution_count": 99,
   "metadata": {},
   "outputs": [
    {
     "data": {
      "text/plain": [
       "0.9533571428571429"
      ]
     },
     "execution_count": 99,
     "metadata": {},
     "output_type": "execute_result"
    }
   ],
   "source": [
    "X_test_layer2 = np.c_[[classifiers_layer1[clf].predict(X_test) for clf in classifiers_layer1]].T\n",
    "\n",
    "y_pred = classifier_layer2.predict(X_test_layer2)\n",
    "accuracy_score(y_pred, y_test)\n",
    "\n",
    "#Nice score, better than random forest and neural net alones"
   ]
  }
 ],
 "metadata": {
  "kernelspec": {
   "display_name": "Python 3.7.1 64-bit ('venv': virtualenv)",
   "language": "python",
   "name": "python37164bitvenvvirtualenva155b21064864e30bb3f17cab6903829"
  },
  "language_info": {
   "codemirror_mode": {
    "name": "ipython",
    "version": 3
   },
   "file_extension": ".py",
   "mimetype": "text/x-python",
   "name": "python",
   "nbconvert_exporter": "python",
   "pygments_lexer": "ipython3",
   "version": "3.7.1"
  }
 },
 "nbformat": 4,
 "nbformat_minor": 4
}
