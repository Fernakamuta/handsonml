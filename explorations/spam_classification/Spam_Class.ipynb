{
 "cells": [
  {
   "cell_type": "code",
   "execution_count": 2,
   "metadata": {},
   "outputs": [],
   "source": [
    "import seaborn as sns\n",
    "import pandas as pd"
   ]
  },
  {
   "cell_type": "code",
   "execution_count": 2,
   "metadata": {},
   "outputs": [
    {
     "data": {
      "text/plain": [
       "['20050311_spam_2.tar.bz2',\n",
       " '20021010_spam.tar.bz2',\n",
       " '.ipynb_checkpoints',\n",
       " '20030228_hard_ham.tar.bz2',\n",
       " '20030228_spam_2.tar.bz2',\n",
       " '20021010_hard_ham.tar.bz2',\n",
       " '20030228_easy_ham_2.tar.bz2',\n",
       " '20021010_easy_ham.tar.bz2',\n",
       " '20030228_easy_ham.tar.bz2',\n",
       " '20030228_spam.tar.bz2']"
      ]
     },
     "execution_count": 2,
     "metadata": {},
     "output_type": "execute_result"
    }
   ],
   "source": [
    "import os\n",
    "\n",
    "os.listdir('datasets')"
   ]
  }
 ],
 "metadata": {
  "kernelspec": {
   "display_name": "Python 3.7.1 64-bit ('venv': virtualenv)",
   "language": "python",
   "name": "python37164bitvenvvirtualenva155b21064864e30bb3f17cab6903829"
  },
  "language_info": {
   "codemirror_mode": {
    "name": "ipython",
    "version": 3
   },
   "file_extension": ".py",
   "mimetype": "text/x-python",
   "name": "python",
   "nbconvert_exporter": "python",
   "pygments_lexer": "ipython3",
   "version": "3.7.1"
  }
 },
 "nbformat": 4,
 "nbformat_minor": 4
}
