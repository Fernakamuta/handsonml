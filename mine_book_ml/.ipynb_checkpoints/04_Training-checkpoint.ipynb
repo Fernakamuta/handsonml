{
 "cells": [
  {
   "cell_type": "markdown",
   "metadata": {},
   "source": [
    "# Training Linear Models"
   ]
  },
  {
   "cell_type": "code",
   "execution_count": 3,
   "metadata": {},
   "outputs": [],
   "source": [
    "import numpy as np\n",
    "import matplotlib.pyplot as plt\n",
    "\n",
    "X = 2 * np.random.rand(100, 1)\n",
    "y = 4 + 3 * X + np.random.randn(100, 1)"
   ]
  },
  {
   "cell_type": "markdown",
   "metadata": {},
   "source": [
    "# 1) The normal equation\n",
    "\"The most exact way\""
   ]
  },
  {
   "cell_type": "code",
   "execution_count": 20,
   "metadata": {},
   "outputs": [
    {
     "data": {
      "image/png": "[encoded data removed]",
      "text/plain": [
       "<Figure size 432x288 with 1 Axes>"
      ]
     },
     "metadata": {
      "needs_background": "light"
     },
     "output_type": "display_data"
    }
   ],
   "source": [
    "plt.plot(X, y, \".\")\n",
    "plt.xlabel(\"$X_1$\", fontsize=18)\n",
    "plt.ylabel(\"$y$\", rotation=0, fontsize=18)\n",
    "plt.axis([0, 2, 0, 15])\n",
    "plt.show()"
   ]
  },
  {
   "cell_type": "code",
   "execution_count": 51,
   "metadata": {},
   "outputs": [],
   "source": [
    "def add_x0(X):\n",
    "    \"\"\"add x0 = 1 to each instance.\"\"\"\n",
    "    shape = X.shape\n",
    "    return np.c_[np.ones(shape), X]"
   ]
  },
  {
   "cell_type": "code",
   "execution_count": 53,
   "metadata": {},
   "outputs": [
    {
     "data": {
      "text/plain": [
       "array([[4.2811505 ],\n",
       "       [2.82920874]])"
      ]
     },
     "execution_count": 53,
     "metadata": {},
     "output_type": "execute_result"
    }
   ],
   "source": [
    "X_b = add_x0(X) \n",
    "theta_best = np.linalg.inv(X_b.T.dot(X_b)).dot(X_b.T).dot(y)\n",
    "theta_best"
   ]
  },
  {
   "cell_type": "code",
   "execution_count": 63,
   "metadata": {},
   "outputs": [
    {
     "data": {
      "text/plain": [
       "array([[1., 0.],\n",
       "       [1., 2.]])"
      ]
     },
     "execution_count": 63,
     "metadata": {},
     "output_type": "execute_result"
    }
   ],
   "source": [
    "X_new = np.array([\n",
    "    [0],\n",
    "    [2]\n",
    "])\n",
    "\n",
    "X_new_b = add_x0(X_new)\n",
    "X_new_b"
   ]
  },
  {
   "cell_type": "code",
   "execution_count": 65,
   "metadata": {},
   "outputs": [],
   "source": [
    "y_new = X_new_b.dot(theta_best)"
   ]
  },
  {
   "cell_type": "code",
   "execution_count": 66,
   "metadata": {},
   "outputs": [
    {
     "data": {
      "text/plain": [
       "array([[0],\n",
       "       [2]])"
      ]
     },
     "execution_count": 66,
     "metadata": {},
     "output_type": "execute_result"
    }
   ],
   "source": [
    "X_new"
   ]
  },
  {
   "cell_type": "code",
   "execution_count": 67,
   "metadata": {},
   "outputs": [
    {
     "data": {
      "image/png": "[encoded data removed]",
      "text/plain": [
       "<Figure size 432x288 with 1 Axes>"
      ]
     },
     "metadata": {
      "needs_background": "light"
     },
     "output_type": "display_data"
    }
   ],
   "source": [
    "plt.plot(X_new, y_new, 'r-')\n",
    "plt.plot(X, y, \".\")\n",
    "plt.xlabel(\"$X_1$\", fontsize=18)\n",
    "plt.ylabel(\"$y$\", rotation=0, fontsize=18)\n",
    "plt.axis([0, 2, 0, 15])\n",
    "plt.show()"
   ]
  },
  {
   "cell_type": "markdown",
   "metadata": {},
   "source": [
    "# 2) The SVG Way\n",
    "The choice for Scikit-Learn LinearRegressor.\n",
    "The normal equation may not work everytime, because some X matrices may not be intertible (m < n).\n",
    "\n",
    "So, we can use the pseudo inverse X from Singular Value Decomposition  to compute our theta parameters!"
   ]
  },
  {
   "cell_type": "code",
   "execution_count": 76,
   "metadata": {},
   "outputs": [
    {
     "data": {
      "text/plain": [
       "array([[4.2811505 ],\n",
       "       [2.82920874]])"
      ]
     },
     "execution_count": 76,
     "metadata": {},
     "output_type": "execute_result"
    }
   ],
   "source": [
    "np.linalg.pinv(X_b).dot(y) # Oh yes, the same parameters =)"
   ]
  },
  {
   "cell_type": "markdown",
   "metadata": {},
   "source": [
    "# 3) Batch Gradient"
   ]
  },
  {
   "cell_type": "code",
   "execution_count": 86,
   "metadata": {},
   "outputs": [],
   "source": [
    "def calc_gradient_vectors(X, y, theta):\n",
    "    return 2/m * X.T.dot(X.dot(theta) - y)"
   ]
  },
  {
   "cell_type": "code",
   "execution_count": 94,
   "metadata": {},
   "outputs": [
    {
     "data": {
      "text/plain": [
       "0"
      ]
     },
     "execution_count": 94,
     "metadata": {},
     "output_type": "execute_result"
    }
   ],
   "source": [
    "50 % 2"
   ]
  },
  {
   "cell_type": "code",
   "execution_count": 97,
   "metadata": {},
   "outputs": [
    {
     "name": "stdout",
     "output_type": "stream",
     "text": [
      "i  0 ->  theta [-0.13121415  0.67794784]\n",
      "i  50 ->  theta [4.0392329 3.0655163]\n",
      "i  100 ->  theta [4.23166291 2.87754872]\n",
      "i  150 ->  theta [4.27102713 2.83909735]\n",
      "i  200 ->  theta [4.27907963 2.83123159]\n",
      "i  250 ->  theta [4.28072688 2.82962254]\n",
      "i  300 ->  theta [4.28106385 2.82929339]\n",
      "i  350 ->  theta [4.28113278 2.82922605]\n",
      "i  400 ->  theta [4.28114688 2.82921228]\n",
      "i  450 ->  theta [4.28114976 2.82920946]\n",
      "i  500 ->  theta [4.28115035 2.82920889]\n",
      "i  550 ->  theta [4.28115047 2.82920877]\n",
      "i  600 ->  theta [4.2811505  2.82920874]\n",
      "i  650 ->  theta [4.2811505  2.82920874]\n",
      "i  700 ->  theta [4.2811505  2.82920874]\n",
      "i  750 ->  theta [4.2811505  2.82920874]\n",
      "i  800 ->  theta [4.2811505  2.82920874]\n",
      "i  850 ->  theta [4.2811505  2.82920874]\n",
      "i  900 ->  theta [4.2811505  2.82920874]\n",
      "i  950 ->  theta [4.2811505  2.82920874]\n"
     ]
    }
   ],
   "source": [
    "eta = 0.1\n",
    "n_iterations = 1000\n",
    "m = 100\n",
    "theta = np.random.randn(2,1)\n",
    "\n",
    "for iteration in range(n_iterations):\n",
    "    if iteration % 50 == 0:\n",
    "        print(f'i {iteration: } ->  theta {theta.flatten()}')\n",
    "    gradients = calc_gradient_vector(X_b, y, theta)\n",
    "    theta = theta - eta * gradients # Nice!"
   ]
  },
  {
   "cell_type": "code",
   "execution_count": null,
   "metadata": {},
   "outputs": [],
   "source": []
  }
 ],
 "metadata": {
  "kernelspec": {
   "display_name": "Python 3.7.1 64-bit ('venv': virtualenv)",
   "language": "python",
   "name": "python37164bitvenvvirtualenva155b21064864e30bb3f17cab6903829"
  },
  "language_info": {
   "codemirror_mode": {
    "name": "ipython",
    "version": 3
   },
   "file_extension": ".py",
   "mimetype": "text/x-python",
   "name": "python",
   "nbconvert_exporter": "python",
   "pygments_lexer": "ipython3",
   "version": "3.7.1"
  }
 },
 "nbformat": 4,
 "nbformat_minor": 4
}
